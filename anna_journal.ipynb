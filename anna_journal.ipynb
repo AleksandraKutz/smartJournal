{
 "cells": [
  {
   "cell_type": "code",
   "execution_count": 15,
   "id": "fc799d44-e272-4f9c-b20e-ccad0918c204",
   "metadata": {},
   "outputs": [],
   "source": [
    "import requests\n",
    "from pymongo import MongoClient"
   ]
  },
  {
   "cell_type": "code",
   "execution_count": 16,
   "id": "3e1a59ba-4ea2-4cd5-8048-d3c827437eac",
   "metadata": {},
   "outputs": [],
   "source": [
    "url = 'https://archive.org/stream/in.ernet.dli.2015.201940/2015.201940.Anne-Frank_djvu.txt'"
   ]
  },
  {
   "cell_type": "code",
   "execution_count": 17,
   "id": "20a4e0bf-7956-4927-9585-375934c274d9",
   "metadata": {},
   "outputs": [],
   "source": [
    "response = requests.get(url)"
   ]
  },
  {
   "cell_type": "code",
   "execution_count": 18,
   "id": "0aadfdc0-3ca6-491c-9c12-61c9c8260c1a",
   "metadata": {},
   "outputs": [],
   "source": [
    "days = ['Monday', 'Tuesday', 'Wednesday', 'Thursday', 'Friday', 'Saturday', 'Sunday']\n",
    "months = ['January', 'February', 'March', 'April', 'May', 'June', 'July', 'August', 'September', 'October', 'November', 'December']"
   ]
  },
  {
   "cell_type": "code",
   "execution_count": 19,
   "id": "2ce2868d-f642-4fc3-b539-55338fb0be1e",
   "metadata": {},
   "outputs": [
    {
     "name": "stdout",
     "output_type": "stream",
     "text": [
      "Number of posts: 172\n"
     ]
    }
   ],
   "source": [
    "if response.status_code == 200:\n",
    "    journal_text = response.text\n",
    "\n",
    "    lines = journal_text.split(\"\\n\")\n",
    "\n",
    "    entries = []\n",
    "    current_entry = None\n",
    "    \n",
    "    for line in lines:\n",
    "        if any(day in line for day in days) and any(month in line for month in months):\n",
    "            if current_entry:\n",
    "                entries.append(current_entry)\n",
    "            current_entry = {'date': line.strip(), 'text': \"\"}\n",
    "        \n",
    "        elif current_entry:\n",
    "            current_entry['text'] += line.strip() + \" \"\n",
    "    \n",
    "    if current_entry:\n",
    "        entries.append(current_entry)\n",
    "\n",
    "    print(f\"Number of posts: {len(entries)}\") \n",
    "\n",
    "else:\n",
    "    print(\"Error with downloading the page\")"
   ]
  },
  {
   "cell_type": "code",
   "execution_count": 20,
   "id": "6fe2836b-37ea-4909-bee6-e74e95e93b45",
   "metadata": {},
   "outputs": [
    {
     "name": "stdout",
     "output_type": "stream",
     "text": [
      "Date: Sunday , 14 June , 1942\n",
      "Text:   \n",
      "-----------------------\n",
      "Date: On Friday, June 12th, I woke up at six o'clock and no\n",
      "Text: wonder; it was my birthday. But of course I was not allowed to get up at that hour, so I had to control my curiosity until a quarter to seven. Then I could bear it no longer, and went to the dining room, where I received a warm welcome from Moortje (the cat).  Soon after seven I went to Mummy and Daddy and then to the sitting room to undo my presents. The first to greet me was you , possibly the nicest of all. Then on the table there were a bunch of roses, a plant, and some peonies, and more arrived during the day.  I got masses of things from Mummy and Daddy, and was thoroughly spoiled by various friends. Among other things I was given Camera Obscura , a party game, lots of sweets, chocolates, a puzzle, a brooch, Tales and Legends of the Netherlands by Joseph Cohen, Daisy’s Mountain Holiday (a terrific book), and some money. Now I can buy The Myths of Greece and Rome— grand!  Then Lies called for me and we went to school. During recess I treated everyone to sweet biscuits, and then we had to go back to our lessons.  Now I must stop. Bye-bye, were going to be great palsl   \n",
      "-----------------------\n",
      "Date: Monday , 15 June, 1942\n",
      "Text:  I had my birthday party on Sunday afternoon. We showed a film The Lighthouse Keeper with Rin-Tin-Tin, which my school friends thoroughly enjoyed. We had a lovely time. There were lots of girls and boys. Mummy always wants to  1    ANNE FRANK   2   know whom Im going to marry. Little does she guess that it’s Peter Wessel; one day I managed, without blushing or flickering an eyelid, to get that idea right out of her mind. For years Lies Goosens and Sanne Houtman have been my best friends. Since then, I’ve got to know Jopie de Waal at the Jewish Secondary School. We are together a lot and she is now my best girl friend. Lies is more friendly with another girl, and Sanne goes to a different school, where she has made new friends.   \n",
      "-----------------------\n",
      "Date: Saturday, 20 June, 1942\n",
      "Text:  I haven’t written for a few days, because I wanted first of all to think about my diary. It’s an odd idea for someone like me to keep a diary; not only because I have never done so before, but because it seems to me that neither I-nor for that matter anyone else— will be interested in the unbosom- ings of a thirteen-year-old schoolgirl. Still, what does that mat- ter? I want to write, but more than that, I want to bring out all kinds of things that lie buried deep in my heart.  There is a saying that ‘paper is more patient than man”; it came back to me on one of my slightly melancholy days, while I sat chin in hand, feeling too bored and limp even to make up my mind whether to go out or stay at home. Yes, there is no doubt that paper is patient and as I don’t intend to show this cardboard-covered notebook, bearing the proud name of “diary,” to anyone, unless I find a real friend, boy or girl, probably nobody cares. And now I come to the root of the matter, the reason for my starting a diary: it is that I have no such real friend.  Let me put it more clearly, since no one will believe that a girl of thirteen feels herself quite alone in the world, nor is it sq. I have darling parents and a sister of sixteen. I know about thirty people whom one might call friends-I have strings of boy friends, anxious to catch a glimpse of me and who, failing that, peep at me through mirrors in class. I have relations, aunts and uncles, who are darlings too, a good home, no— I    THE DIARY OF A YOUNG GIRL   3   don’t seem to lack anything. But it’s the same with all my friends, just fun and joking, nothing more. I can never bring myself to talk of anything outside the common round. We don’t seem to be able to get any closer, that is the root of the trouble. Perhaps I lack confidence, but anyway, there it is, a stubborn fact and I don’t seem to be able to do anything about it.  Hence, this diary. In order to enhance in my mind’s eye the picture of the friend for whom I have waited so long, I don’t want to set down a series of bald facts in a diary like most people do, but I want this diary itself to be my friend, and I shall call my friend Kitty. No one will grasp what I’m talking about if I begin my letters to Kitty just out of the blue, so albeit unwillingly, I will start by sketching in brief the story of my life.  My father was thirty-six when he married my mother, who was then twenty-five. My sister Margot was born in 1926 in Frankfort-on-Main, I followed on June 12, 1929, and, as we are Jewish, we emigrated to Holland in 1933, where my father was appomted Managing Director of Travies N.V. This firm is in close relationship with the firm of Kolen &amp; Co. in the same building, of which my father is a partner.  The rest of our family, however, felt the full impact of Hitler’s anti-Jewish laws, so life was filled with anxiety. In 1938 after the pogroms, my two uncles (my mothers brothers) escaped to the U.S.A. My old grandmother came to us, she was then seventy-three. After May 1940 good times rapidly fled: first the war, then the capitulation, followed by the arrival of the Germans, which is when the sufferings of us Jews really began. Anti-Jewish decrees followed each other in quick succession. Jews must wear a yellow star, 1 Jews must hand in their bicycles, Jews are banned from trains and are forbidden to drive. Jews are only allowed to do their shopping between three and five o’clock and then only in shops which bear the placard “Jewish shop.” Jews must be indoors by eight o’clock and cannot even sit in their own gardens after that  ’■To distinguish them fiom otheis, all Jews were forced by the Germans to wear, prominently displayed, a yellow six-pointed star.    ANNE FRANK   4   hour. Jews are forbidden to visit theaters, cinemas, and other places of entertainment. Jews may not take part in public sports. Swimming baths, tennis courts, hockey fields, and other sports grounds are all prohibited to them. Jews may not visit Christians. Jews must go to Jewish schools, and many more restrictions of a similar kind.  So we could not do this and were forbidden to do that. But life went on in spite of it all. Jopie used to say to me, \"You’re scared to do anything, because it may be forbidden.\" Our freedom was strictly limited. Yet things were still bearable.  Granny died in January 1942; no one will ever know how much she is present in my thoughts and how much I love her still.  In 1934 I went to school at the Montessori Kindergarten and continued there. It was at the end of the school year, I was in form 6B, when I had to say good-by to Mrs. K. We both wept, it was very sad. In 1941 I went, with my sister Margot, to the Jewish Secondary School, she into the fourth form and I into the first.  So far everything is all right with the four of us and here I come to the present day.   \n",
      "-----------------------\n",
      "Date: Saturday , 20 June , 1942\n",
      "Text:   Dear Kitty,  I’ll start straight away. It is so peaceful at the moment, Mummy and Daddy are .out and Margot has gone to play ping-pong with some friends.  I’ve been playing ping-pong a lot myself lately, We ping- pongers are very partial to an ice cream, especially in summer, when one gets warm at the game, so we usually finish up with a visit to the nearest ice-cream shop, Delphi or Oasis, where Jews are allowed. We’ve given up scrounging for extra pocket money. Oasis is usually full and among our large circle of friends we always manage to find some kindhearted gentle- man or boy friend, who presents us with more ice cream than we could devour m a week.    THE DIARY OF A YOUNG GIRL   5   I expect you will be rather surprised at the fact that I should talk of boy friends at my age. Alas, one simply cant seem to avoid it at our school As soon as a boy asks if he may bicycle home with me and we get into conversation, nine out of ten times I can be sure that he will fall head over heels in love immediately and simply won t allow me out of his sight. After a while it cools down of course, especially as I take little notice of ardent looks and pedal blithely on.  If it gets so far that they begin about “asking Father” I swerve slightly on my bicycle, my satchel falls, the young man is bound to get off and hand it to me, by which time I have introduced a new topic of conversation.  These are the most innocent types; you get some who blow kisses or try to get hold of your arm, but then they are defi- nitely knocking at the wrong door. I get off my bicycle and refuse to go further m their company, or I pretend to be in- sulted and tell them in no uncertain terms to clear off.  There, the foundation of our friendship is laid, till tomor- rowl  Yours, Anne   \n",
      "-----------------------\n"
     ]
    }
   ],
   "source": [
    "for entry in entries[:5]:\n",
    "    print(f\"Date: {entry['date']}\")\n",
    "    print(f\"Text: {entry['text']}\")\n",
    "    print(\"-----------------------\")"
   ]
  },
  {
   "cell_type": "code",
   "execution_count": null,
   "id": "cb3ddab0-4921-4087-b18c-66a131df462c",
   "metadata": {},
   "outputs": [],
   "source": []
  },
  {
   "cell_type": "code",
   "execution_count": null,
   "id": "4b92dbf0-2658-44c7-afe8-19230cf5dd83",
   "metadata": {},
   "outputs": [],
   "source": []
  }
 ],
 "metadata": {
  "kernelspec": {
   "display_name": "Python 3 (ipykernel)",
   "language": "python",
   "name": "python3"
  },
  "language_info": {
   "codemirror_mode": {
    "name": "ipython",
    "version": 3
   },
   "file_extension": ".py",
   "mimetype": "text/x-python",
   "name": "python",
   "nbconvert_exporter": "python",
   "pygments_lexer": "ipython3",
   "version": "3.10.13"
  }
 },
 "nbformat": 4,
 "nbformat_minor": 5
}
