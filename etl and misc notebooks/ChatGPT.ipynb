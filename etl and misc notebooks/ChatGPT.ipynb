{
 "cells": [
  {
   "cell_type": "code",
   "execution_count": null,
   "id": "5ee73126-c211-4baa-b829-96c08bf974b8",
   "metadata": {},
   "outputs": [],
   "source": [
    "from config import openai_key\n",
    "import openai\n",
    "print(openai_key)"
   ]
  },
  {
   "cell_type": "code",
   "execution_count": 46,
   "id": "06b0c9a5-12e0-48d1-8d65-e984349442c5",
   "metadata": {},
   "outputs": [
    {
     "ename": "TypeError",
     "evalue": "'ChatCompletion' object is not subscriptable",
     "output_type": "error",
     "traceback": [
      "\u001b[1;31m---------------------------------------------------------------------------\u001b[0m",
      "\u001b[1;31mTypeError\u001b[0m                                 Traceback (most recent call last)",
      "Cell \u001b[1;32mIn[46], line 47\u001b[0m\n\u001b[0;32m     32\u001b[0m response \u001b[38;5;241m=\u001b[39m client\u001b[38;5;241m.\u001b[39mchat\u001b[38;5;241m.\u001b[39mcompletions\u001b[38;5;241m.\u001b[39mcreate(\n\u001b[0;32m     33\u001b[0m     model\u001b[38;5;241m=\u001b[39m\u001b[38;5;124m'\u001b[39m\u001b[38;5;124mgpt-4\u001b[39m\u001b[38;5;124m'\u001b[39m,\n\u001b[0;32m     34\u001b[0m     messages\u001b[38;5;241m=\u001b[39m[\n\u001b[1;32m   (...)\u001b[0m\n\u001b[0;32m     43\u001b[0m     ]\n\u001b[0;32m     44\u001b[0m )\n\u001b[0;32m     46\u001b[0m \u001b[38;5;66;03m# Extract and print the assistant's reply\u001b[39;00m\n\u001b[1;32m---> 47\u001b[0m assistant_reply \u001b[38;5;241m=\u001b[39m \u001b[43mresponse\u001b[49m\u001b[43m[\u001b[49m\u001b[38;5;124;43m'\u001b[39;49m\u001b[38;5;124;43mchoices\u001b[39;49m\u001b[38;5;124;43m'\u001b[39;49m\u001b[43m]\u001b[49m[\u001b[38;5;241m0\u001b[39m][\u001b[38;5;124m'\u001b[39m\u001b[38;5;124mmessage\u001b[39m\u001b[38;5;124m'\u001b[39m][\u001b[38;5;124m'\u001b[39m\u001b[38;5;124mcontent\u001b[39m\u001b[38;5;124m'\u001b[39m]\n\u001b[0;32m     48\u001b[0m \u001b[38;5;28mprint\u001b[39m(assistant_reply)\n",
      "\u001b[1;31mTypeError\u001b[0m: 'ChatCompletion' object is not subscriptable"
     ]
    }
   ],
   "source": [
    "#put in function TODO so that you can call it, passing in the journals\n",
    "entry = ''' Dear Kitty, \n",
    "\n",
    "It is boiling hot, we are all positively melting, and in this \n",
    "heat I have to walk everywhere. Now I can fully appreciate \n",
    "how nice a tram is; but that is a forbidden luxury for Jews— \n",
    "shank’s mare is good enough for us. I had to visit the dentist \n",
    "in the Jan Luykenstraat in the lunch hour yesterday. It is a \n",
    "long way from our school in the Stadstimmertuinen; I nearly \n",
    "fell asleep in school that afternoon. Luckily, the dentist’s as- \n",
    "sistant was very kind and gave me a drink— she’s a good sort. \n",
    "\n",
    "We are allowed on the ferry and that is about all. There is \n",
    "a little boat from the Josef Israelskade, the man there took us \n",
    "at once when we asked him. It is not the Dutch people^ fault \n",
    "that we are having such a miserable time. \n",
    "\n",
    "I do wish I didn’t have to go to school, as my bicycle was \n",
    "stolen in the Easter holidays and Daddy has given Mummy’s \n",
    "to a Christian family for safekeeping. But thank goodness, the \n",
    "holidays are nearly here, one more week and the agony is over. \n",
    "Something amusing happened yesterday, I was passing the \n",
    "bicycle sheds when someone called out to me. I looked around \n",
    "and there was the nice-looking boy I met on the previous eve- \n",
    "ning, at my girl friend Eva’s home. He came shyly towards me \n",
    "and introduced himself as Harry Goldberg. I was rather sur- \n",
    "prised and wondered what he wanted, but I didn’t have to \n",
    "wait long. He asked if I would allow him to accompany me \n",
    "to school. “As you’re going my way in any case, I will,” I re- \n",
    "plied and so we went together. Harry is sixteen and can tell '''\n",
    "\n",
    "client = openai.OpenAI( api_key = openai_key )\n",
    "response = client.chat.completions.create(\n",
    "    model='gpt-4',\n",
    "    messages=[\n",
    "        {'role': 'system', 'content': 'You are a helpful assistant.'},\n",
    "        {'role': 'user', 'content': '''\n",
    "                            I will provide a text that you will analyze please.  \n",
    "                            I want you to return JSON with the following information, a short up to three sentence summary and any detected emotions with their intensity scores. Also an array of actions by the writer detected.\n",
    "                            It will look like this:\n",
    "                                {\"summary\": string,  \"emotions\" : [ {\"emotion_name\":float}], \"actions\":[string]}\n",
    "                            Do not include explanations, extra text, or formatting outside JSON.\"     \n",
    "                     '''+ entry + '\"'}\n",
    "    ]\n",
    ")\n",
    "\n",
    "# Extract and print the assistant's reply\n",
    "assistant_reply = response['choices'][0]['message']['content']\n",
    "print(assistant_reply)"
   ]
  },
  {
   "cell_type": "code",
   "execution_count": 36,
   "id": "9e2f7a22-bfc1-45d8-ad4f-23802317a7c4",
   "metadata": {},
   "outputs": [
    {
     "data": {
      "text/plain": [
       "ChatCompletion(id='chatcmpl-B0uCeTYR8byy8M3wXn2LVvjQ0aJJS', choices=[Choice(finish_reason='stop', index=0, logprobs=None, message=ChatCompletionMessage(content='{\"summary\": \"The writer describes their struggles due to being a Jew, they have to endure walks in heat as trams are forbidden to Jews. They\\'ve lost their bicycle and yearn for school holidays. A friendly encounter with a boy named Harry Goldberg brings some levity.\", \"emotions\" : [{\"discomfort\":0.9}, {\"resignation\":0.7}, {\"anticipation\":0.6}, {\"surprise\":0.5}], \"actions\":[\"Walking in hot weather\", \"Visiting the dentist\", \"Attending school\", \"Interacting with the dentist’s assistant\", \"Taking a ferry\", \"Communicating with a man\", \"Lost bicycle\", \"Looking forward to school holidays\", \"Meeting a boy named Harry Goldberg\"]}', refusal=None, role='assistant', audio=None, function_call=None, tool_calls=None))], created=1739555744, model='gpt-4-0613', object='chat.completion', service_tier='default', system_fingerprint=None, usage=CompletionUsage(completion_tokens=154, prompt_tokens=511, total_tokens=665, completion_tokens_details=CompletionTokensDetails(accepted_prediction_tokens=0, audio_tokens=0, reasoning_tokens=0, rejected_prediction_tokens=0), prompt_tokens_details=PromptTokensDetails(audio_tokens=0, cached_tokens=0)))"
      ]
     },
     "execution_count": 36,
     "metadata": {},
     "output_type": "execute_result"
    }
   ],
   "source": [
    "response"
   ]
  },
  {
   "cell_type": "code",
   "execution_count": 18,
   "id": "ba7db99d-6306-4810-b595-e0aa8a4db5d8",
   "metadata": {},
   "outputs": [
    {
     "name": "stderr",
     "output_type": "stream",
     "text": [
      "C:\\Users\\smiga\\AppData\\Local\\Temp\\ipykernel_3776\\690762135.py:1: PydanticDeprecatedSince20: The `json` method is deprecated; use `model_dump_json` instead. Deprecated in Pydantic V2.0 to be removed in V3.0. See Pydantic V2 Migration Guide at https://errors.pydantic.dev/2.10/migration/\n",
      "  response.json()\n"
     ]
    },
    {
     "data": {
      "text/plain": [
       "'{\"id\":\"chatcmpl-B0u5R2dP0NkgahmiYefA5wrjkOALJ\",\"choices\":[{\"finish_reason\":\"stop\",\"index\":0,\"logprobs\":null,\"message\":{\"content\":\"{\\\\\"summary\\\\\": \\\\\"The writer describes her struggle commuting in the heat due to restrictions on Jews, complicated by having her bicycle stolen and handed over for safekeeping respectively. She mentions the kindness of some people like a dentist\\'s assistant and a boatman. She also tells of a boy named Harry who has begun accompanying her to school.\\\\\", \\\\\"emotions\\\\\": [{\\\\\"emotion_name\\\\\": \\\\\"exhaustion\\\\\", \\\\\"emotion_score\\\\\": 0.7}, {\\\\\"emotion_name\\\\\": \\\\\"gratitude\\\\\", \\\\\"emotion_score\\\\\": 0.5}, {\\\\\"emotion_name\\\\\": \\\\\"surprise\\\\\", \\\\\"emotion_score\\\\\": 0.3}]}\",\"refusal\":null,\"role\":\"assistant\",\"audio\":null,\"function_call\":null,\"tool_calls\":null}}],\"created\":1739555297,\"model\":\"gpt-4-0613\",\"object\":\"chat.completion\",\"service_tier\":\"default\",\"system_fingerprint\":null,\"usage\":{\"completion_tokens\":124,\"prompt_tokens\":502,\"total_tokens\":626,\"completion_tokens_details\":{\"accepted_prediction_tokens\":0,\"audio_tokens\":0,\"reasoning_tokens\":0,\"rejected_prediction_tokens\":0},\"prompt_tokens_details\":{\"audio_tokens\":0,\"cached_tokens\":0}}}'"
      ]
     },
     "execution_count": 18,
     "metadata": {},
     "output_type": "execute_result"
    }
   ],
   "source": []
  },
  {
   "cell_type": "code",
   "execution_count": 47,
   "id": "40034132-e4b2-4215-9df5-a03ae113672c",
   "metadata": {},
   "outputs": [],
   "source": [
    "import json\n",
    "\n",
    "from pprint import pprint\n",
    "diary_response = json.loads(response.to_dict()['choices'][0][\"message\"]['content'])"
   ]
  },
  {
   "cell_type": "code",
   "execution_count": 48,
   "id": "29782ff5-ef44-4e8c-899c-156edfc62155",
   "metadata": {},
   "outputs": [
    {
     "ename": "SyntaxError",
     "evalue": "incomplete input (2474143421.py, line 3)",
     "output_type": "error",
     "traceback": [
      "\u001b[1;36m  Cell \u001b[1;32mIn[48], line 3\u001b[1;36m\u001b[0m\n\u001b[1;33m    df = pd.DataFrame(\u001b[0m\n\u001b[1;37m                      ^\u001b[0m\n\u001b[1;31mSyntaxError\u001b[0m\u001b[1;31m:\u001b[0m incomplete input\n"
     ]
    }
   ],
   "source": [
    "import pandas as pd\n",
    "\n",
    "df = pd.DataFrame("
   ]
  },
  {
   "cell_type": "code",
   "execution_count": 49,
   "id": "594ce389-ec94-443d-b5f5-e3758c0806b4",
   "metadata": {},
   "outputs": [
    {
     "data": {
      "text/plain": [
       "{'summary': \"The writer, walking everywhere because Jews aren't permitted to use trams, suffers from the intense heat and the long distances she has to traverse. Despite the misery, she finds solace in small kindnesses from people like the dentist's assistant, and a surprise encounter with a boy named Harry Goldberg. The writer seems to be in a hostile environment, trying to navigate oppressive rules and hardship.\",\n",
       " 'emotions': [{'anger': 0.2}, {'surprise': 0.3}, {'sadness': 0.5}],\n",
       " 'actions': ['walked to dentist',\n",
       "  'navigated restrictions imposed on her',\n",
       "  \"received help from dentist's assistant\",\n",
       "  'interacted with Harry Goldberg']}"
      ]
     },
     "execution_count": 49,
     "metadata": {},
     "output_type": "execute_result"
    }
   ],
   "source": [
    "diary_response"
   ]
  },
  {
   "cell_type": "code",
   "execution_count": 50,
   "id": "9dccf00e-7289-46c7-a1a0-2480b6539865",
   "metadata": {},
   "outputs": [
    {
     "data": {
      "text/plain": [
       "{'summary': 'The text tells a tale of a student who talks too much, earning the ire of her math teacher Mr. Keptor, who demands she pen a composition on the topic of being a chatterbox. Despite her assurances, she struggles to remain silent and is continually given such punishments, resulting in humorous presentations. Her friend assists her in composing an amusing poem for the latest assignment.',\n",
       " 'emotions': [{'humour': 0.7}, {'frustration': 0.2}, {'satisfaction': 0.3}],\n",
       " 'actions': ['writing',\n",
       "  'chewing pen',\n",
       "  'pondering',\n",
       "  'laughing',\n",
       "  'jumping for joy']}"
      ]
     },
     "execution_count": 50,
     "metadata": {},
     "output_type": "execute_result"
    }
   ],
   "source": [
    "diary_response2"
   ]
  },
  {
   "cell_type": "code",
   "execution_count": 52,
   "id": "44e22860-bcf9-4f4b-94ed-24e9f3638b59",
   "metadata": {},
   "outputs": [
    {
     "data": {
      "text/html": [
       "<div>\n",
       "<style scoped>\n",
       "    .dataframe tbody tr th:only-of-type {\n",
       "        vertical-align: middle;\n",
       "    }\n",
       "\n",
       "    .dataframe tbody tr th {\n",
       "        vertical-align: top;\n",
       "    }\n",
       "\n",
       "    .dataframe thead th {\n",
       "        text-align: right;\n",
       "    }\n",
       "</style>\n",
       "<table border=\"1\" class=\"dataframe\">\n",
       "  <thead>\n",
       "    <tr style=\"text-align: right;\">\n",
       "      <th></th>\n",
       "      <th>summary</th>\n",
       "      <th>emotions</th>\n",
       "      <th>actions</th>\n",
       "    </tr>\n",
       "  </thead>\n",
       "  <tbody>\n",
       "    <tr>\n",
       "      <th>0</th>\n",
       "      <td>The writer, walking everywhere because Jews ar...</td>\n",
       "      <td>[{'anger': 0.2}, {'surprise': 0.3}, {'sadness'...</td>\n",
       "      <td>[walked to dentist, navigated restrictions imp...</td>\n",
       "    </tr>\n",
       "    <tr>\n",
       "      <th>1</th>\n",
       "      <td>The text tells a tale of a student who talks t...</td>\n",
       "      <td>[{'humour': 0.7}, {'frustration': 0.2}, {'sati...</td>\n",
       "      <td>[writing, chewing pen, pondering, laughing, ju...</td>\n",
       "    </tr>\n",
       "  </tbody>\n",
       "</table>\n",
       "</div>"
      ],
      "text/plain": [
       "                                             summary  \\\n",
       "0  The writer, walking everywhere because Jews ar...   \n",
       "1  The text tells a tale of a student who talks t...   \n",
       "\n",
       "                                            emotions  \\\n",
       "0  [{'anger': 0.2}, {'surprise': 0.3}, {'sadness'...   \n",
       "1  [{'humour': 0.7}, {'frustration': 0.2}, {'sati...   \n",
       "\n",
       "                                             actions  \n",
       "0  [walked to dentist, navigated restrictions imp...  \n",
       "1  [writing, chewing pen, pondering, laughing, ju...  "
      ]
     },
     "execution_count": 52,
     "metadata": {},
     "output_type": "execute_result"
    }
   ],
   "source": [
    "import pandas as pd\n",
    "df = pd.DataFrame([diary_response, diary_response2])\n",
    "df"
   ]
  },
  {
   "cell_type": "code",
   "execution_count": 61,
   "id": "04b9a9c5-dd32-4dd8-b954-c995c16bd06a",
   "metadata": {},
   "outputs": [
    {
     "data": {
      "text/html": [
       "<div>\n",
       "<style scoped>\n",
       "    .dataframe tbody tr th:only-of-type {\n",
       "        vertical-align: middle;\n",
       "    }\n",
       "\n",
       "    .dataframe tbody tr th {\n",
       "        vertical-align: top;\n",
       "    }\n",
       "\n",
       "    .dataframe thead th {\n",
       "        text-align: right;\n",
       "    }\n",
       "</style>\n",
       "<table border=\"1\" class=\"dataframe\">\n",
       "  <thead>\n",
       "    <tr style=\"text-align: right;\">\n",
       "      <th></th>\n",
       "      <th>summary</th>\n",
       "      <th>actions</th>\n",
       "      <th>anger</th>\n",
       "      <th>surprise</th>\n",
       "      <th>sadness</th>\n",
       "      <th>humour</th>\n",
       "      <th>frustration</th>\n",
       "      <th>satisfaction</th>\n",
       "    </tr>\n",
       "  </thead>\n",
       "  <tbody>\n",
       "    <tr>\n",
       "      <th>0</th>\n",
       "      <td>The writer, walking everywhere because Jews ar...</td>\n",
       "      <td>[walked to dentist, navigated restrictions imp...</td>\n",
       "      <td>0.2</td>\n",
       "      <td>0.3</td>\n",
       "      <td>0.5</td>\n",
       "      <td>0.0</td>\n",
       "      <td>0.0</td>\n",
       "      <td>0.0</td>\n",
       "    </tr>\n",
       "    <tr>\n",
       "      <th>1</th>\n",
       "      <td>The text tells a tale of a student who talks t...</td>\n",
       "      <td>[writing, chewing pen, pondering, laughing, ju...</td>\n",
       "      <td>0.0</td>\n",
       "      <td>0.0</td>\n",
       "      <td>0.0</td>\n",
       "      <td>0.7</td>\n",
       "      <td>0.2</td>\n",
       "      <td>0.3</td>\n",
       "    </tr>\n",
       "  </tbody>\n",
       "</table>\n",
       "</div>"
      ],
      "text/plain": [
       "                                             summary  \\\n",
       "0  The writer, walking everywhere because Jews ar...   \n",
       "1  The text tells a tale of a student who talks t...   \n",
       "\n",
       "                                             actions  anger  surprise  \\\n",
       "0  [walked to dentist, navigated restrictions imp...    0.2       0.3   \n",
       "1  [writing, chewing pen, pondering, laughing, ju...    0.0       0.0   \n",
       "\n",
       "   sadness  humour  frustration  satisfaction  \n",
       "0      0.5     0.0          0.0           0.0  \n",
       "1      0.0     0.7          0.2           0.3  "
      ]
     },
     "execution_count": 61,
     "metadata": {},
     "output_type": "execute_result"
    }
   ],
   "source": [
    "# Function to transform list of separate dicts into a single dictionary <ChatGPT>\n",
    "def expand_emotions(emotion_list):\n",
    "    merged_dict = {}\n",
    "    for emotion in emotion_list:\n",
    "        merged_dict.update(emotion)  # Merge all small dicts into one\n",
    "    return pd.Series(merged_dict)\n",
    "\n",
    "# Apply transformation\n",
    "emotion_df = df[\"emotions\"].apply(expand_emotions)\n",
    "\n",
    "# Merge the new emotion columns back to the original DataFrame\n",
    "df_final = df.drop(columns=[\"emotions\"]).join(emotion_df)\n",
    "\n",
    "# Fill NaN values with 0\n",
    "df_final.fillna(0, inplace=True)\n",
    "\n",
    "df_final"
   ]
  },
  {
   "cell_type": "code",
   "execution_count": null,
   "id": "2ab29285-d894-4cde-ac0e-a9e8767e4801",
   "metadata": {},
   "outputs": [],
   "source": []
  }
 ],
 "metadata": {
  "kernelspec": {
   "display_name": "Python 3 (ipykernel)",
   "language": "python",
   "name": "python3"
  },
  "language_info": {
   "codemirror_mode": {
    "name": "ipython",
    "version": 3
   },
   "file_extension": ".py",
   "mimetype": "text/x-python",
   "name": "python",
   "nbconvert_exporter": "python",
   "pygments_lexer": "ipython3",
   "version": "3.10.16"
  }
 },
 "nbformat": 4,
 "nbformat_minor": 5
}
