{
 "cells": [
  {
   "cell_type": "code",
   "execution_count": 13,
   "id": "c8da7d6e-6687-4dc0-b640-5d00d500134f",
   "metadata": {},
   "outputs": [
    {
     "name": "stderr",
     "output_type": "stream",
     "text": [
      "Device set to use cpu\n"
     ]
    },
    {
     "name": "stdout",
     "output_type": "stream",
     "text": [
      "2160\n",
      "[{'label': 'anger', 'score': 0.9084317684173584}]\n"
     ]
    }
   ],
   "source": [
    "from transformers import pipeline\n",
    "\n",
    "# Create the pipeline\n",
    "emotion_classifier = pipeline('text-classification', model='AdamCodd/tinybert-emotion-balanced')\n",
    "\n",
    "text = \"\"\"Henk, and the others “on the outside” you get some \n",
    "idea of the risks taken by many natives in occupied \n",
    "countries in their efforts to help their persecuted \n",
    "friends. What leads some people to consider it their \n",
    "duty to fight all enemies of democracy and human dig- \n",
    "nity, while others look on either indifferently or even \n",
    "approvingly? What is the chief flaw in human nature \n",
    "that accounts for the existence of prejudice and active \n",
    "hostility toward alien groups? \n",
    "\n",
    "6. The constant quarrels with and by the Van Daans \n",
    "are discussed repeatedly by Anne. She asks whether \n",
    "there would be trouble with “whoever one shared a \n",
    "house with” (p. 123M). Do such differences arise \n",
    "whenever people share quarters? Give examples.\n",
    "Henk, and the others “on the outside” you get some \n",
    "idea of the risks taken by many natives in occupied \n",
    "countries in their efforts to help their persecuted \n",
    "friends. What leads some people to consider it their \n",
    "duty to fight all enemies of democracy and human dig- \n",
    "nity, while others look on either indifferently or even \n",
    "approvingly? What is the chief flaw in human nature \n",
    "that accounts for the existence of prejudice and active \n",
    "hostility toward alien groups? \n",
    "\n",
    "6. The constant quarrels with and by the Van Daans \n",
    "are discussed repeatedly by Anne. She asks whether \n",
    "there would be trouble with “whoever one shared a \n",
    "house with” (p. 123M). Do such differences arise \n",
    "whenever people share quarters? Give examples.\n",
    "6. The constant quarrels with and by the Van Daans \n",
    "are discussed repeatedly by Anne. She asks whether \n",
    "there would be trouble with “whoever one shared a \n",
    "house with” (p. 123M). Do such differences arise \n",
    "whenever people share quarters? Give examples.\n",
    "Henk, and the others “on the outside” you get some \n",
    "idea of the risks taken by many natives in occupied \n",
    "countries in their efforts to help their persecuted \n",
    "friends. What leads some people to consider it their \n",
    "duty to fight all enemies of democracy and human dig- \n",
    "nity, while others look on either indifferently or even \n",
    "approvingly? What is the chief flaw in human nature \n",
    "that accounts for the existence of prejudice and active \n",
    "hostility toward alien groups? \n",
    "\"\"\"\n",
    "\n",
    "print(len(text))\n",
    "# Now you can use the pipeline to classify emotions\n",
    "result = emotion_classifier(text)\n",
    "\n",
    "print(result)\n",
    "#[{'label': 'joy', 'score': 0.9895486831665039}]\n"
   ]
  },
  {
   "cell_type": "code",
   "execution_count": null,
   "id": "db588f08-7f95-415f-b3f2-c11ed5819cf6",
   "metadata": {},
   "outputs": [],
   "source": []
  }
 ],
 "metadata": {
  "kernelspec": {
   "display_name": "Python 3 (ipykernel)",
   "language": "python",
   "name": "python3"
  },
  "language_info": {
   "codemirror_mode": {
    "name": "ipython",
    "version": 3
   },
   "file_extension": ".py",
   "mimetype": "text/x-python",
   "name": "python",
   "nbconvert_exporter": "python",
   "pygments_lexer": "ipython3",
   "version": "3.10.16"
  }
 },
 "nbformat": 4,
 "nbformat_minor": 5
}
